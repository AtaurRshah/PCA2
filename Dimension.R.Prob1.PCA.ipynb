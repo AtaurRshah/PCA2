{
 "cells": [
  {
   "cell_type": "markdown",
   "metadata": {},
   "source": [
    "# Performing Dimension Reduction With PCA(Principle Components Analysis)"
   ]
  },
  {
   "cell_type": "code",
   "execution_count": 1,
   "metadata": {},
   "outputs": [],
   "source": [
    "import pandas as pd\n",
    "import numpy as np\n",
    "import matplotlib.pyplot as plt\n",
    "from sklearn.decomposition import PCA"
   ]
  },
  {
   "cell_type": "code",
   "execution_count": 2,
   "metadata": {},
   "outputs": [],
   "source": [
    "df = pd.read_csv('/home/ataur/Downloads/Datasets_PCA_Problem Statement/wine.csv')"
   ]
  },
  {
   "cell_type": "code",
   "execution_count": 3,
   "metadata": {},
   "outputs": [
    {
     "data": {
      "text/html": [
       "<div>\n",
       "<style scoped>\n",
       "    .dataframe tbody tr th:only-of-type {\n",
       "        vertical-align: middle;\n",
       "    }\n",
       "\n",
       "    .dataframe tbody tr th {\n",
       "        vertical-align: top;\n",
       "    }\n",
       "\n",
       "    .dataframe thead th {\n",
       "        text-align: right;\n",
       "    }\n",
       "</style>\n",
       "<table border=\"1\" class=\"dataframe\">\n",
       "  <thead>\n",
       "    <tr style=\"text-align: right;\">\n",
       "      <th></th>\n",
       "      <th>Type</th>\n",
       "      <th>Alcohol</th>\n",
       "      <th>Malic</th>\n",
       "      <th>Ash</th>\n",
       "      <th>Alcalinity</th>\n",
       "      <th>Magnesium</th>\n",
       "      <th>Phenols</th>\n",
       "      <th>Flavanoids</th>\n",
       "      <th>Nonflavanoids</th>\n",
       "      <th>Proanthocyanins</th>\n",
       "      <th>Color</th>\n",
       "      <th>Hue</th>\n",
       "      <th>Dilution</th>\n",
       "      <th>Proline</th>\n",
       "    </tr>\n",
       "  </thead>\n",
       "  <tbody>\n",
       "    <tr>\n",
       "      <th>0</th>\n",
       "      <td>1</td>\n",
       "      <td>14.23</td>\n",
       "      <td>1.71</td>\n",
       "      <td>2.43</td>\n",
       "      <td>15.6</td>\n",
       "      <td>127</td>\n",
       "      <td>2.80</td>\n",
       "      <td>3.06</td>\n",
       "      <td>0.28</td>\n",
       "      <td>2.29</td>\n",
       "      <td>5.64</td>\n",
       "      <td>1.04</td>\n",
       "      <td>3.92</td>\n",
       "      <td>1065</td>\n",
       "    </tr>\n",
       "    <tr>\n",
       "      <th>1</th>\n",
       "      <td>1</td>\n",
       "      <td>13.20</td>\n",
       "      <td>1.78</td>\n",
       "      <td>2.14</td>\n",
       "      <td>11.2</td>\n",
       "      <td>100</td>\n",
       "      <td>2.65</td>\n",
       "      <td>2.76</td>\n",
       "      <td>0.26</td>\n",
       "      <td>1.28</td>\n",
       "      <td>4.38</td>\n",
       "      <td>1.05</td>\n",
       "      <td>3.40</td>\n",
       "      <td>1050</td>\n",
       "    </tr>\n",
       "    <tr>\n",
       "      <th>2</th>\n",
       "      <td>1</td>\n",
       "      <td>13.16</td>\n",
       "      <td>2.36</td>\n",
       "      <td>2.67</td>\n",
       "      <td>18.6</td>\n",
       "      <td>101</td>\n",
       "      <td>2.80</td>\n",
       "      <td>3.24</td>\n",
       "      <td>0.30</td>\n",
       "      <td>2.81</td>\n",
       "      <td>5.68</td>\n",
       "      <td>1.03</td>\n",
       "      <td>3.17</td>\n",
       "      <td>1185</td>\n",
       "    </tr>\n",
       "    <tr>\n",
       "      <th>3</th>\n",
       "      <td>1</td>\n",
       "      <td>14.37</td>\n",
       "      <td>1.95</td>\n",
       "      <td>2.50</td>\n",
       "      <td>16.8</td>\n",
       "      <td>113</td>\n",
       "      <td>3.85</td>\n",
       "      <td>3.49</td>\n",
       "      <td>0.24</td>\n",
       "      <td>2.18</td>\n",
       "      <td>7.80</td>\n",
       "      <td>0.86</td>\n",
       "      <td>3.45</td>\n",
       "      <td>1480</td>\n",
       "    </tr>\n",
       "    <tr>\n",
       "      <th>4</th>\n",
       "      <td>1</td>\n",
       "      <td>13.24</td>\n",
       "      <td>2.59</td>\n",
       "      <td>2.87</td>\n",
       "      <td>21.0</td>\n",
       "      <td>118</td>\n",
       "      <td>2.80</td>\n",
       "      <td>2.69</td>\n",
       "      <td>0.39</td>\n",
       "      <td>1.82</td>\n",
       "      <td>4.32</td>\n",
       "      <td>1.04</td>\n",
       "      <td>2.93</td>\n",
       "      <td>735</td>\n",
       "    </tr>\n",
       "  </tbody>\n",
       "</table>\n",
       "</div>"
      ],
      "text/plain": [
       "   Type  Alcohol  Malic   Ash  Alcalinity  Magnesium  Phenols  Flavanoids  \\\n",
       "0     1    14.23   1.71  2.43        15.6        127     2.80        3.06   \n",
       "1     1    13.20   1.78  2.14        11.2        100     2.65        2.76   \n",
       "2     1    13.16   2.36  2.67        18.6        101     2.80        3.24   \n",
       "3     1    14.37   1.95  2.50        16.8        113     3.85        3.49   \n",
       "4     1    13.24   2.59  2.87        21.0        118     2.80        2.69   \n",
       "\n",
       "   Nonflavanoids  Proanthocyanins  Color   Hue  Dilution  Proline  \n",
       "0           0.28             2.29   5.64  1.04      3.92     1065  \n",
       "1           0.26             1.28   4.38  1.05      3.40     1050  \n",
       "2           0.30             2.81   5.68  1.03      3.17     1185  \n",
       "3           0.24             2.18   7.80  0.86      3.45     1480  \n",
       "4           0.39             1.82   4.32  1.04      2.93      735  "
      ]
     },
     "execution_count": 3,
     "metadata": {},
     "output_type": "execute_result"
    }
   ],
   "source": [
    "df.head()"
   ]
  },
  {
   "cell_type": "code",
   "execution_count": 4,
   "metadata": {},
   "outputs": [
    {
     "name": "stdout",
     "output_type": "stream",
     "text": [
      "<class 'pandas.core.frame.DataFrame'>\n",
      "RangeIndex: 178 entries, 0 to 177\n",
      "Data columns (total 14 columns):\n",
      " #   Column           Non-Null Count  Dtype  \n",
      "---  ------           --------------  -----  \n",
      " 0   Type             178 non-null    int64  \n",
      " 1   Alcohol          178 non-null    float64\n",
      " 2   Malic            178 non-null    float64\n",
      " 3   Ash              178 non-null    float64\n",
      " 4   Alcalinity       178 non-null    float64\n",
      " 5   Magnesium        178 non-null    int64  \n",
      " 6   Phenols          178 non-null    float64\n",
      " 7   Flavanoids       178 non-null    float64\n",
      " 8   Nonflavanoids    178 non-null    float64\n",
      " 9   Proanthocyanins  178 non-null    float64\n",
      " 10  Color            178 non-null    float64\n",
      " 11  Hue              178 non-null    float64\n",
      " 12  Dilution         178 non-null    float64\n",
      " 13  Proline          178 non-null    int64  \n",
      "dtypes: float64(11), int64(3)\n",
      "memory usage: 19.6 KB\n"
     ]
    }
   ],
   "source": [
    "df.info()"
   ]
  },
  {
   "cell_type": "code",
   "execution_count": 5,
   "metadata": {},
   "outputs": [
    {
     "data": {
      "text/plain": [
       "Type               0\n",
       "Alcohol            0\n",
       "Malic              0\n",
       "Ash                0\n",
       "Alcalinity         0\n",
       "Magnesium          0\n",
       "Phenols            0\n",
       "Flavanoids         0\n",
       "Nonflavanoids      0\n",
       "Proanthocyanins    0\n",
       "Color              0\n",
       "Hue                0\n",
       "Dilution           0\n",
       "Proline            0\n",
       "dtype: int64"
      ]
     },
     "execution_count": 5,
     "metadata": {},
     "output_type": "execute_result"
    }
   ],
   "source": [
    "df.isnull().sum()"
   ]
  },
  {
   "cell_type": "code",
   "execution_count": 6,
   "metadata": {},
   "outputs": [
    {
     "data": {
      "text/plain": [
       "0"
      ]
     },
     "execution_count": 6,
     "metadata": {},
     "output_type": "execute_result"
    }
   ],
   "source": [
    "df.duplicated().sum()"
   ]
  },
  {
   "cell_type": "markdown",
   "metadata": {},
   "source": [
    "# Outliers Process"
   ]
  },
  {
   "cell_type": "code",
   "execution_count": 7,
   "metadata": {},
   "outputs": [
    {
     "data": {
      "text/plain": [
       "Type                   AxesSubplot(0.125,0.71587;0.168478x0.16413)\n",
       "Alcohol             AxesSubplot(0.327174,0.71587;0.168478x0.16413)\n",
       "Malic               AxesSubplot(0.529348,0.71587;0.168478x0.16413)\n",
       "Ash                 AxesSubplot(0.731522,0.71587;0.168478x0.16413)\n",
       "Alcalinity            AxesSubplot(0.125,0.518913;0.168478x0.16413)\n",
       "Magnesium          AxesSubplot(0.327174,0.518913;0.168478x0.16413)\n",
       "Phenols            AxesSubplot(0.529348,0.518913;0.168478x0.16413)\n",
       "Flavanoids         AxesSubplot(0.731522,0.518913;0.168478x0.16413)\n",
       "Nonflavanoids         AxesSubplot(0.125,0.321957;0.168478x0.16413)\n",
       "Proanthocyanins    AxesSubplot(0.327174,0.321957;0.168478x0.16413)\n",
       "Color              AxesSubplot(0.529348,0.321957;0.168478x0.16413)\n",
       "Hue                AxesSubplot(0.731522,0.321957;0.168478x0.16413)\n",
       "Dilution                 AxesSubplot(0.125,0.125;0.168478x0.16413)\n",
       "Proline               AxesSubplot(0.327174,0.125;0.168478x0.16413)\n",
       "dtype: object"
      ]
     },
     "execution_count": 7,
     "metadata": {},
     "output_type": "execute_result"
    },
    {
     "data": {
      "image/png": "[encoded data removed]",
      "text/plain": [
       "<Figure size 1440x1296 with 16 Axes>"
      ]
     },
     "metadata": {
      "needs_background": "light"
     },
     "output_type": "display_data"
    }
   ],
   "source": [
    "df.plot(kind='box', subplots=True, layout=(4,4), fontsize=10, figsize=(20,18))"
   ]
  },
  {
   "cell_type": "code",
   "execution_count": 8,
   "metadata": {},
   "outputs": [
    {
     "data": {
      "text/plain": [
       "1.4799999999999998"
      ]
     },
     "execution_count": 8,
     "metadata": {},
     "output_type": "execute_result"
    }
   ],
   "source": [
    "# first Column\n",
    "iqr = df['Malic'].quantile(0.75) - df['Malic'].quantile(0.25)\n",
    "iqr"
   ]
  },
  {
   "cell_type": "code",
   "execution_count": 9,
   "metadata": {},
   "outputs": [
    {
     "data": {
      "text/plain": [
       "-0.6174999999999995"
      ]
     },
     "execution_count": 9,
     "metadata": {},
     "output_type": "execute_result"
    }
   ],
   "source": [
    "lower_limit = df['Malic'].quantile(0.25) - 1.5*(iqr)\n",
    "lower_limit"
   ]
  },
  {
   "cell_type": "code",
   "execution_count": 10,
   "metadata": {},
   "outputs": [
    {
     "data": {
      "text/plain": [
       "5.3025"
      ]
     },
     "execution_count": 10,
     "metadata": {},
     "output_type": "execute_result"
    }
   ],
   "source": [
    "upper_limit = df['Malic'].quantile(0.75) + 1.5*(iqr)\n",
    "upper_limit"
   ]
  },
  {
   "cell_type": "code",
   "execution_count": 11,
   "metadata": {},
   "outputs": [],
   "source": [
    "df['Malic'] = np.where(df['Malic'] > upper_limit, upper_limit, np.where(df['Malic'] < lower_limit, lower_limit, df['Malic']))"
   ]
  },
  {
   "cell_type": "code",
   "execution_count": 12,
   "metadata": {},
   "outputs": [
    {
     "data": {
      "text/plain": [
       "0.34750000000000014"
      ]
     },
     "execution_count": 12,
     "metadata": {},
     "output_type": "execute_result"
    }
   ],
   "source": [
    "# Second Column\n",
    "iqr = df['Ash'].quantile(0.75) - df['Ash'].quantile(0.25)\n",
    "iqr"
   ]
  },
  {
   "cell_type": "code",
   "execution_count": 13,
   "metadata": {},
   "outputs": [
    {
     "data": {
      "text/plain": [
       "1.6887499999999998"
      ]
     },
     "execution_count": 13,
     "metadata": {},
     "output_type": "execute_result"
    }
   ],
   "source": [
    "lower_limit = df['Ash'].quantile(0.25) - 1.5*(iqr)\n",
    "lower_limit"
   ]
  },
  {
   "cell_type": "code",
   "execution_count": 14,
   "metadata": {},
   "outputs": [
    {
     "data": {
      "text/plain": [
       "3.0787500000000003"
      ]
     },
     "execution_count": 14,
     "metadata": {},
     "output_type": "execute_result"
    }
   ],
   "source": [
    "upper_limit = df['Ash'].quantile(0.75) + 1.5*(iqr)\n",
    "upper_limit"
   ]
  },
  {
   "cell_type": "code",
   "execution_count": 15,
   "metadata": {},
   "outputs": [],
   "source": [
    "df['Ash'] = np.where(df['Ash'] > upper_limit, upper_limit, np.where(df['Ash'] < lower_limit, lower_limit, df['Ash']))"
   ]
  },
  {
   "cell_type": "code",
   "execution_count": 16,
   "metadata": {},
   "outputs": [
    {
     "data": {
      "text/plain": [
       "4.300000000000001"
      ]
     },
     "execution_count": 16,
     "metadata": {},
     "output_type": "execute_result"
    }
   ],
   "source": [
    "# Third column\n",
    "iqr = df['Alcalinity'].quantile(0.75) - df['Alcalinity'].quantile(0.25)\n",
    "iqr"
   ]
  },
  {
   "cell_type": "code",
   "execution_count": 17,
   "metadata": {},
   "outputs": [
    {
     "data": {
      "text/plain": [
       "10.749999999999998"
      ]
     },
     "execution_count": 17,
     "metadata": {},
     "output_type": "execute_result"
    }
   ],
   "source": [
    "lower_limit = df['Alcalinity'].quantile(0.25) - 1.5*(iqr)\n",
    "lower_limit"
   ]
  },
  {
   "cell_type": "code",
   "execution_count": 18,
   "metadata": {},
   "outputs": [
    {
     "data": {
      "text/plain": [
       "27.950000000000003"
      ]
     },
     "execution_count": 18,
     "metadata": {},
     "output_type": "execute_result"
    }
   ],
   "source": [
    "upper_limit = df['Alcalinity'].quantile(0.75) + 1.5*(iqr)\n",
    "upper_limit"
   ]
  },
  {
   "cell_type": "code",
   "execution_count": 19,
   "metadata": {},
   "outputs": [],
   "source": [
    "df['Alcalinity'] = np.where(df['Alcalinity'] > upper_limit, upper_limit, np.where(df['Alcalinity'] < lower_limit, lower_limit, df['Alcalinity']))"
   ]
  },
  {
   "cell_type": "code",
   "execution_count": 20,
   "metadata": {},
   "outputs": [
    {
     "data": {
      "text/plain": [
       "19.0"
      ]
     },
     "execution_count": 20,
     "metadata": {},
     "output_type": "execute_result"
    }
   ],
   "source": [
    "# Forth column\n",
    "iqr = df['Magnesium'].quantile(0.75) - df['Magnesium'].quantile(0.25)\n",
    "iqr"
   ]
  },
  {
   "cell_type": "code",
   "execution_count": 21,
   "metadata": {},
   "outputs": [
    {
     "data": {
      "text/plain": [
       "59.5"
      ]
     },
     "execution_count": 21,
     "metadata": {},
     "output_type": "execute_result"
    }
   ],
   "source": [
    "lower_limit = df['Magnesium'].quantile(0.25) - 1.5*(iqr)\n",
    "lower_limit"
   ]
  },
  {
   "cell_type": "code",
   "execution_count": 22,
   "metadata": {},
   "outputs": [
    {
     "data": {
      "text/plain": [
       "135.5"
      ]
     },
     "execution_count": 22,
     "metadata": {},
     "output_type": "execute_result"
    }
   ],
   "source": [
    "upper_limit = df['Magnesium'].quantile(0.75) + 1.5*(iqr)\n",
    "upper_limit"
   ]
  },
  {
   "cell_type": "code",
   "execution_count": 23,
   "metadata": {},
   "outputs": [],
   "source": [
    "df['Magnesium'] = np.where(df['Magnesium'] > upper_limit, upper_limit, np.where(df['Magnesium'] < lower_limit, lower_limit, df['Magnesium']))"
   ]
  },
  {
   "cell_type": "code",
   "execution_count": 24,
   "metadata": {},
   "outputs": [
    {
     "data": {
      "text/plain": [
       "0.7"
      ]
     },
     "execution_count": 24,
     "metadata": {},
     "output_type": "execute_result"
    }
   ],
   "source": [
    "# Fifth column\n",
    "iqr = df['Proanthocyanins'].quantile(0.75) - df['Proanthocyanins'].quantile(0.25)\n",
    "iqr"
   ]
  },
  {
   "cell_type": "code",
   "execution_count": 25,
   "metadata": {},
   "outputs": [
    {
     "data": {
      "text/plain": [
       "0.20000000000000018"
      ]
     },
     "execution_count": 25,
     "metadata": {},
     "output_type": "execute_result"
    }
   ],
   "source": [
    "lower_limit = df['Proanthocyanins'].quantile(0.25) - 1.5*(iqr)\n",
    "lower_limit"
   ]
  },
  {
   "cell_type": "code",
   "execution_count": 26,
   "metadata": {},
   "outputs": [
    {
     "data": {
      "text/plain": [
       "3.0"
      ]
     },
     "execution_count": 26,
     "metadata": {},
     "output_type": "execute_result"
    }
   ],
   "source": [
    "upper_limit = df['Proanthocyanins'].quantile(0.75) + 1.5*(iqr)\n",
    "upper_limit"
   ]
  },
  {
   "cell_type": "code",
   "execution_count": 27,
   "metadata": {},
   "outputs": [],
   "source": [
    "df['Proanthocyanins'] = np.where(df['Proanthocyanins'] > upper_limit, upper_limit, np.where(df['Proanthocyanins'] < lower_limit, lower_limit, df['Proanthocyanins']))"
   ]
  },
  {
   "cell_type": "code",
   "execution_count": 28,
   "metadata": {},
   "outputs": [
    {
     "data": {
      "text/plain": [
       "2.9800000000000004"
      ]
     },
     "execution_count": 28,
     "metadata": {},
     "output_type": "execute_result"
    }
   ],
   "source": [
    "# Sixth column\n",
    "iqr = df['Color'].quantile(0.75) - df['Color'].quantile(0.25)\n",
    "iqr"
   ]
  },
  {
   "cell_type": "code",
   "execution_count": 29,
   "metadata": {},
   "outputs": [
    {
     "data": {
      "text/plain": [
       "-1.2500000000000009"
      ]
     },
     "execution_count": 29,
     "metadata": {},
     "output_type": "execute_result"
    }
   ],
   "source": [
    "lower_limit = df['Color'].quantile(0.25) - 1.5*(iqr)\n",
    "lower_limit"
   ]
  },
  {
   "cell_type": "code",
   "execution_count": 30,
   "metadata": {},
   "outputs": [
    {
     "data": {
      "text/plain": [
       "10.670000000000002"
      ]
     },
     "execution_count": 30,
     "metadata": {},
     "output_type": "execute_result"
    }
   ],
   "source": [
    "upper_limit = df['Color'].quantile(0.75) + 1.5*(iqr)\n",
    "upper_limit"
   ]
  },
  {
   "cell_type": "code",
   "execution_count": 31,
   "metadata": {},
   "outputs": [],
   "source": [
    "df['Color'] = np.where(df['Color'] > upper_limit, upper_limit, np.where(df['Color'] < lower_limit, lower_limit, df['Color']))"
   ]
  },
  {
   "cell_type": "code",
   "execution_count": 32,
   "metadata": {},
   "outputs": [
    {
     "data": {
      "text/plain": [
       "0.33750000000000013"
      ]
     },
     "execution_count": 32,
     "metadata": {},
     "output_type": "execute_result"
    }
   ],
   "source": [
    "# Seven column\n",
    "iqr = df['Hue'].quantile(0.75) - df['Hue'].quantile(0.25)\n",
    "iqr"
   ]
  },
  {
   "cell_type": "code",
   "execution_count": 33,
   "metadata": {},
   "outputs": [
    {
     "data": {
      "text/plain": [
       "0.2762499999999998"
      ]
     },
     "execution_count": 33,
     "metadata": {},
     "output_type": "execute_result"
    }
   ],
   "source": [
    "lower_limit = df['Hue'].quantile(0.25) - 1.5*(iqr)\n",
    "lower_limit"
   ]
  },
  {
   "cell_type": "code",
   "execution_count": 34,
   "metadata": {},
   "outputs": [
    {
     "data": {
      "text/plain": [
       "1.6262500000000002"
      ]
     },
     "execution_count": 34,
     "metadata": {},
     "output_type": "execute_result"
    }
   ],
   "source": [
    "upper_limit = df['Hue'].quantile(0.75) + 1.5*(iqr)\n",
    "upper_limit"
   ]
  },
  {
   "cell_type": "code",
   "execution_count": 35,
   "metadata": {},
   "outputs": [],
   "source": [
    "df['Hue'] = np.where(df['Hue'] > upper_limit, upper_limit, np.where(df['Hue'] < lower_limit, lower_limit, df['Hue']))"
   ]
  },
  {
   "cell_type": "code",
   "execution_count": 36,
   "metadata": {},
   "outputs": [
    {
     "data": {
      "text/plain": [
       "Type                   AxesSubplot(0.125,0.71587;0.168478x0.16413)\n",
       "Alcohol             AxesSubplot(0.327174,0.71587;0.168478x0.16413)\n",
       "Malic               AxesSubplot(0.529348,0.71587;0.168478x0.16413)\n",
       "Ash                 AxesSubplot(0.731522,0.71587;0.168478x0.16413)\n",
       "Alcalinity            AxesSubplot(0.125,0.518913;0.168478x0.16413)\n",
       "Magnesium          AxesSubplot(0.327174,0.518913;0.168478x0.16413)\n",
       "Phenols            AxesSubplot(0.529348,0.518913;0.168478x0.16413)\n",
       "Flavanoids         AxesSubplot(0.731522,0.518913;0.168478x0.16413)\n",
       "Nonflavanoids         AxesSubplot(0.125,0.321957;0.168478x0.16413)\n",
       "Proanthocyanins    AxesSubplot(0.327174,0.321957;0.168478x0.16413)\n",
       "Color              AxesSubplot(0.529348,0.321957;0.168478x0.16413)\n",
       "Hue                AxesSubplot(0.731522,0.321957;0.168478x0.16413)\n",
       "Dilution                 AxesSubplot(0.125,0.125;0.168478x0.16413)\n",
       "Proline               AxesSubplot(0.327174,0.125;0.168478x0.16413)\n",
       "dtype: object"
      ]
     },
     "execution_count": 36,
     "metadata": {},
     "output_type": "execute_result"
    },
    {
     "data": {
      "image/png": "[encoded data removed]",
      "text/plain": [
       "<Figure size 1440x1296 with 16 Axes>"
      ]
     },
     "metadata": {
      "needs_background": "light"
     },
     "output_type": "display_data"
    }
   ],
   "source": [
    "df.plot(kind='box', subplots=True, layout=(4,4), fontsize=10, figsize=(20,18))"
   ]
  },
  {
   "cell_type": "markdown",
   "metadata": {},
   "source": [
    "# Normalization"
   ]
  },
  {
   "cell_type": "code",
   "execution_count": 37,
   "metadata": {},
   "outputs": [],
   "source": [
    "def norm_func(i):\n",
    "    x = (i-i.min()) / (i.max()-i.min())\n",
    "    return(x)"
   ]
  },
  {
   "cell_type": "code",
   "execution_count": 38,
   "metadata": {},
   "outputs": [],
   "source": [
    "df_norm = norm_func(df.iloc[:,1:])"
   ]
  },
  {
   "cell_type": "code",
   "execution_count": 39,
   "metadata": {},
   "outputs": [
    {
     "data": {
      "text/html": [
       "<div>\n",
       "<style scoped>\n",
       "    .dataframe tbody tr th:only-of-type {\n",
       "        vertical-align: middle;\n",
       "    }\n",
       "\n",
       "    .dataframe tbody tr th {\n",
       "        vertical-align: top;\n",
       "    }\n",
       "\n",
       "    .dataframe thead th {\n",
       "        text-align: right;\n",
       "    }\n",
       "</style>\n",
       "<table border=\"1\" class=\"dataframe\">\n",
       "  <thead>\n",
       "    <tr style=\"text-align: right;\">\n",
       "      <th></th>\n",
       "      <th>Alcohol</th>\n",
       "      <th>Malic</th>\n",
       "      <th>Ash</th>\n",
       "      <th>Alcalinity</th>\n",
       "      <th>Magnesium</th>\n",
       "      <th>Phenols</th>\n",
       "      <th>Flavanoids</th>\n",
       "      <th>Nonflavanoids</th>\n",
       "      <th>Proanthocyanins</th>\n",
       "      <th>Color</th>\n",
       "      <th>Hue</th>\n",
       "      <th>Dilution</th>\n",
       "      <th>Proline</th>\n",
       "    </tr>\n",
       "  </thead>\n",
       "  <tbody>\n",
       "    <tr>\n",
       "      <th>0</th>\n",
       "      <td>0.842105</td>\n",
       "      <td>0.212603</td>\n",
       "      <td>0.533273</td>\n",
       "      <td>0.281977</td>\n",
       "      <td>0.870229</td>\n",
       "      <td>0.627586</td>\n",
       "      <td>0.573840</td>\n",
       "      <td>0.283019</td>\n",
       "      <td>0.725869</td>\n",
       "      <td>0.464324</td>\n",
       "      <td>0.488550</td>\n",
       "      <td>0.970696</td>\n",
       "      <td>0.561341</td>\n",
       "    </tr>\n",
       "    <tr>\n",
       "      <th>1</th>\n",
       "      <td>0.571053</td>\n",
       "      <td>0.227945</td>\n",
       "      <td>0.324640</td>\n",
       "      <td>0.026163</td>\n",
       "      <td>0.458015</td>\n",
       "      <td>0.575862</td>\n",
       "      <td>0.510549</td>\n",
       "      <td>0.245283</td>\n",
       "      <td>0.335907</td>\n",
       "      <td>0.330138</td>\n",
       "      <td>0.497274</td>\n",
       "      <td>0.780220</td>\n",
       "      <td>0.550642</td>\n",
       "    </tr>\n",
       "    <tr>\n",
       "      <th>2</th>\n",
       "      <td>0.560526</td>\n",
       "      <td>0.355068</td>\n",
       "      <td>0.705935</td>\n",
       "      <td>0.456395</td>\n",
       "      <td>0.473282</td>\n",
       "      <td>0.627586</td>\n",
       "      <td>0.611814</td>\n",
       "      <td>0.320755</td>\n",
       "      <td>0.926641</td>\n",
       "      <td>0.468584</td>\n",
       "      <td>0.479826</td>\n",
       "      <td>0.695971</td>\n",
       "      <td>0.646933</td>\n",
       "    </tr>\n",
       "    <tr>\n",
       "      <th>3</th>\n",
       "      <td>0.878947</td>\n",
       "      <td>0.265205</td>\n",
       "      <td>0.583633</td>\n",
       "      <td>0.351744</td>\n",
       "      <td>0.656489</td>\n",
       "      <td>0.989655</td>\n",
       "      <td>0.664557</td>\n",
       "      <td>0.207547</td>\n",
       "      <td>0.683398</td>\n",
       "      <td>0.694356</td>\n",
       "      <td>0.331516</td>\n",
       "      <td>0.798535</td>\n",
       "      <td>0.857347</td>\n",
       "    </tr>\n",
       "    <tr>\n",
       "      <th>4</th>\n",
       "      <td>0.581579</td>\n",
       "      <td>0.405479</td>\n",
       "      <td>0.849820</td>\n",
       "      <td>0.595930</td>\n",
       "      <td>0.732824</td>\n",
       "      <td>0.627586</td>\n",
       "      <td>0.495781</td>\n",
       "      <td>0.490566</td>\n",
       "      <td>0.544402</td>\n",
       "      <td>0.323749</td>\n",
       "      <td>0.488550</td>\n",
       "      <td>0.608059</td>\n",
       "      <td>0.325963</td>\n",
       "    </tr>\n",
       "    <tr>\n",
       "      <th>...</th>\n",
       "      <td>...</td>\n",
       "      <td>...</td>\n",
       "      <td>...</td>\n",
       "      <td>...</td>\n",
       "      <td>...</td>\n",
       "      <td>...</td>\n",
       "      <td>...</td>\n",
       "      <td>...</td>\n",
       "      <td>...</td>\n",
       "      <td>...</td>\n",
       "      <td>...</td>\n",
       "      <td>...</td>\n",
       "      <td>...</td>\n",
       "    </tr>\n",
       "    <tr>\n",
       "      <th>173</th>\n",
       "      <td>0.705263</td>\n",
       "      <td>1.000000</td>\n",
       "      <td>0.547662</td>\n",
       "      <td>0.566860</td>\n",
       "      <td>0.381679</td>\n",
       "      <td>0.241379</td>\n",
       "      <td>0.056962</td>\n",
       "      <td>0.735849</td>\n",
       "      <td>0.250965</td>\n",
       "      <td>0.683706</td>\n",
       "      <td>0.139586</td>\n",
       "      <td>0.172161</td>\n",
       "      <td>0.329529</td>\n",
       "    </tr>\n",
       "    <tr>\n",
       "      <th>174</th>\n",
       "      <td>0.623684</td>\n",
       "      <td>0.694795</td>\n",
       "      <td>0.569245</td>\n",
       "      <td>0.712209</td>\n",
       "      <td>0.488550</td>\n",
       "      <td>0.282759</td>\n",
       "      <td>0.086498</td>\n",
       "      <td>0.566038</td>\n",
       "      <td>0.386100</td>\n",
       "      <td>0.641108</td>\n",
       "      <td>0.191930</td>\n",
       "      <td>0.106227</td>\n",
       "      <td>0.336662</td>\n",
       "    </tr>\n",
       "    <tr>\n",
       "      <th>175</th>\n",
       "      <td>0.589474</td>\n",
       "      <td>0.775890</td>\n",
       "      <td>0.410971</td>\n",
       "      <td>0.537791</td>\n",
       "      <td>0.763359</td>\n",
       "      <td>0.210345</td>\n",
       "      <td>0.073840</td>\n",
       "      <td>0.566038</td>\n",
       "      <td>0.362934</td>\n",
       "      <td>0.949947</td>\n",
       "      <td>0.095965</td>\n",
       "      <td>0.106227</td>\n",
       "      <td>0.397290</td>\n",
       "    </tr>\n",
       "    <tr>\n",
       "      <th>176</th>\n",
       "      <td>0.563158</td>\n",
       "      <td>0.405479</td>\n",
       "      <td>0.490108</td>\n",
       "      <td>0.537791</td>\n",
       "      <td>0.763359</td>\n",
       "      <td>0.231034</td>\n",
       "      <td>0.071730</td>\n",
       "      <td>0.754717</td>\n",
       "      <td>0.405405</td>\n",
       "      <td>0.854100</td>\n",
       "      <td>0.104689</td>\n",
       "      <td>0.128205</td>\n",
       "      <td>0.400856</td>\n",
       "    </tr>\n",
       "    <tr>\n",
       "      <th>177</th>\n",
       "      <td>0.815789</td>\n",
       "      <td>0.736438</td>\n",
       "      <td>0.756295</td>\n",
       "      <td>0.799419</td>\n",
       "      <td>0.396947</td>\n",
       "      <td>0.368966</td>\n",
       "      <td>0.088608</td>\n",
       "      <td>0.811321</td>\n",
       "      <td>0.362934</td>\n",
       "      <td>0.843450</td>\n",
       "      <td>0.113413</td>\n",
       "      <td>0.120879</td>\n",
       "      <td>0.201141</td>\n",
       "    </tr>\n",
       "  </tbody>\n",
       "</table>\n",
       "<p>178 rows × 13 columns</p>\n",
       "</div>"
      ],
      "text/plain": [
       "      Alcohol     Malic       Ash  Alcalinity  Magnesium   Phenols  \\\n",
       "0    0.842105  0.212603  0.533273    0.281977   0.870229  0.627586   \n",
       "1    0.571053  0.227945  0.324640    0.026163   0.458015  0.575862   \n",
       "2    0.560526  0.355068  0.705935    0.456395   0.473282  0.627586   \n",
       "3    0.878947  0.265205  0.583633    0.351744   0.656489  0.989655   \n",
       "4    0.581579  0.405479  0.849820    0.595930   0.732824  0.627586   \n",
       "..        ...       ...       ...         ...        ...       ...   \n",
       "173  0.705263  1.000000  0.547662    0.566860   0.381679  0.241379   \n",
       "174  0.623684  0.694795  0.569245    0.712209   0.488550  0.282759   \n",
       "175  0.589474  0.775890  0.410971    0.537791   0.763359  0.210345   \n",
       "176  0.563158  0.405479  0.490108    0.537791   0.763359  0.231034   \n",
       "177  0.815789  0.736438  0.756295    0.799419   0.396947  0.368966   \n",
       "\n",
       "     Flavanoids  Nonflavanoids  Proanthocyanins     Color       Hue  Dilution  \\\n",
       "0      0.573840       0.283019         0.725869  0.464324  0.488550  0.970696   \n",
       "1      0.510549       0.245283         0.335907  0.330138  0.497274  0.780220   \n",
       "2      0.611814       0.320755         0.926641  0.468584  0.479826  0.695971   \n",
       "3      0.664557       0.207547         0.683398  0.694356  0.331516  0.798535   \n",
       "4      0.495781       0.490566         0.544402  0.323749  0.488550  0.608059   \n",
       "..          ...            ...              ...       ...       ...       ...   \n",
       "173    0.056962       0.735849         0.250965  0.683706  0.139586  0.172161   \n",
       "174    0.086498       0.566038         0.386100  0.641108  0.191930  0.106227   \n",
       "175    0.073840       0.566038         0.362934  0.949947  0.095965  0.106227   \n",
       "176    0.071730       0.754717         0.405405  0.854100  0.104689  0.128205   \n",
       "177    0.088608       0.811321         0.362934  0.843450  0.113413  0.120879   \n",
       "\n",
       "      Proline  \n",
       "0    0.561341  \n",
       "1    0.550642  \n",
       "2    0.646933  \n",
       "3    0.857347  \n",
       "4    0.325963  \n",
       "..        ...  \n",
       "173  0.329529  \n",
       "174  0.336662  \n",
       "175  0.397290  \n",
       "176  0.400856  \n",
       "177  0.201141  \n",
       "\n",
       "[178 rows x 13 columns]"
      ]
     },
     "execution_count": 39,
     "metadata": {},
     "output_type": "execute_result"
    }
   ],
   "source": [
    "df_norm"
   ]
  },
  {
   "cell_type": "code",
   "execution_count": 40,
   "metadata": {},
   "outputs": [],
   "source": [
    "pca = PCA(n_components=13)"
   ]
  },
  {
   "cell_type": "code",
   "execution_count": 41,
   "metadata": {},
   "outputs": [],
   "source": [
    "pca_v = pca.fit_transform(df_norm)"
   ]
  },
  {
   "cell_type": "code",
   "execution_count": 42,
   "metadata": {},
   "outputs": [
    {
     "data": {
      "text/plain": [
       "array([[-0.74237809, -0.3341633 ,  0.02073392, ...,  0.01508793,\n",
       "        -0.09232318, -0.01451748],\n",
       "       [-0.48884803,  0.02259572, -0.3705329 , ...,  0.00146734,\n",
       "        -0.09710243,  0.00330144],\n",
       "       [-0.54760715, -0.24435907,  0.23645814, ..., -0.0553851 ,\n",
       "        -0.08752844,  0.005045  ],\n",
       "       ...,\n",
       "       [ 0.6606089 , -0.64682223, -0.10381135, ...,  0.1992812 ,\n",
       "        -0.00784973,  0.00202534],\n",
       "       [ 0.57814144, -0.51418186, -0.1084128 , ...,  0.07330747,\n",
       "         0.01248004, -0.01219863],\n",
       "       [ 0.76040559, -0.57039342,  0.28073434, ..., -0.03022826,\n",
       "         0.00885787, -0.07082755]])"
      ]
     },
     "execution_count": 42,
     "metadata": {},
     "output_type": "execute_result"
    }
   ],
   "source": [
    "pca_v"
   ]
  },
  {
   "cell_type": "markdown",
   "metadata": {},
   "source": [
    "# Pca Weights"
   ]
  },
  {
   "cell_type": "code",
   "execution_count": 43,
   "metadata": {},
   "outputs": [
    {
     "data": {
      "text/plain": [
       "array([[-1.18091114e-01,  2.74415847e-01,  7.40307507e-03,\n",
       "         1.96772575e-01, -1.15212841e-01, -3.77175811e-01,\n",
       "        -3.98130002e-01,  3.18270927e-01, -3.02103788e-01,\n",
       "         1.19736810e-01, -2.67009727e-01, -4.55227213e-01,\n",
       "        -2.69271415e-01],\n",
       "       [-4.76549491e-01, -2.18500375e-01, -2.28843679e-01,\n",
       "         5.92760485e-02, -2.87837691e-01, -8.66338531e-02,\n",
       "        -2.32960518e-02,  7.11639433e-03, -5.84302386e-02,\n",
       "        -5.82398139e-01,  2.21298091e-01,  1.73650285e-01,\n",
       "        -3.95723170e-01],\n",
       "       [-1.39603985e-01,  3.40630734e-01,  5.56014575e-01,\n",
       "         5.38432724e-01,  9.96953496e-02,  1.88781623e-01,\n",
       "         1.61223380e-01,  2.38596698e-01,  2.08333199e-01,\n",
       "        -1.21874291e-01, -1.76340137e-02,  2.46252446e-01,\n",
       "        -1.33090602e-01],\n",
       "       [ 1.77859685e-02,  6.51591889e-01, -3.32226358e-01,\n",
       "        -1.06607882e-01, -1.99647269e-01,  5.68924239e-02,\n",
       "         4.89992533e-02, -4.15945041e-01,  2.07908136e-01,\n",
       "        -1.74222127e-02, -3.43505055e-01,  1.83274165e-01,\n",
       "        -1.99375580e-01],\n",
       "       [-2.37740047e-01, -8.31047624e-02,  9.43311299e-02,\n",
       "         1.60587266e-01,  6.78145601e-01, -1.63754995e-01,\n",
       "        -9.76361060e-02, -5.93655076e-01, -9.08098651e-02,\n",
       "        -8.90050242e-02, -7.90528581e-02, -1.30287847e-01,\n",
       "        -1.17633839e-01],\n",
       "       [-2.56898691e-01, -3.98068877e-01, -1.38652742e-01,\n",
       "         1.80181803e-01, -1.02619065e-01,  1.29587241e-01,\n",
       "         8.35981293e-02,  7.76921174e-04,  5.76533677e-01,\n",
       "         4.23270372e-01, -2.38802544e-01, -2.26990072e-01,\n",
       "        -2.63517274e-01],\n",
       "       [-1.58223348e-01,  2.68554232e-01, -2.52687661e-01,\n",
       "        -3.20856521e-01,  4.84193575e-01, -4.72364145e-02,\n",
       "        -5.55146445e-02,  4.35621862e-01,  4.48911502e-01,\n",
       "        -2.06204424e-01,  1.73142570e-01, -1.65773462e-01,\n",
       "         7.08524125e-02],\n",
       "       [-2.29121993e-01, -5.48751549e-02, -4.88585141e-02,\n",
       "        -3.10335794e-01,  2.61914101e-01,  4.67159341e-01,\n",
       "         1.76546923e-01,  2.60808142e-01, -4.48855568e-01,\n",
       "         1.40412938e-01, -3.62273088e-01,  1.76555500e-01,\n",
       "        -2.75987450e-01],\n",
       "       [ 6.20277918e-01, -1.86570217e-01, -2.09525355e-01,\n",
       "         1.61418992e-01,  2.53210032e-01, -1.85891114e-01,\n",
       "        -1.35510685e-01,  1.62372546e-01,  7.74319985e-02,\n",
       "        -2.22815931e-02, -4.48728225e-02,  3.64888976e-01,\n",
       "        -4.74806654e-01],\n",
       "       [ 2.39609869e-01,  1.73223939e-01, -1.94926126e-02,\n",
       "         2.59565955e-02, -7.63922703e-03,  3.72471724e-01,\n",
       "         2.00624988e-01, -1.28683136e-01, -1.07319433e-01,\n",
       "         4.75223428e-02,  5.26127749e-01, -4.87678951e-01,\n",
       "        -4.33020313e-01],\n",
       "       [-2.81765386e-01,  1.67824809e-01, -3.90444425e-01,\n",
       "         3.02737528e-01,  9.74316963e-02, -7.99357227e-02,\n",
       "        -3.12571616e-02,  4.26664296e-02, -1.82320415e-01,\n",
       "         5.28256145e-01,  4.39569174e-01,  3.34966373e-01,\n",
       "         1.09303860e-01],\n",
       "       [ 1.28944202e-01, -5.21710914e-02, -4.67161187e-01,\n",
       "         5.20723177e-01,  6.99106173e-02,  3.95170231e-01,\n",
       "        -3.74708870e-02,  6.70254949e-02, -1.05688713e-01,\n",
       "        -3.13991754e-01, -2.23733944e-01, -2.02108886e-01,\n",
       "         3.51639123e-01],\n",
       "       [ 3.04097072e-02,  1.23443850e-02, -1.36823945e-01,\n",
       "         9.72030161e-02,  4.54820718e-02, -4.59826198e-01,\n",
       "         8.37131491e-01,  9.62446428e-02, -1.14613743e-01,\n",
       "        -4.00331114e-02, -1.21771157e-01, -1.31174607e-01,\n",
       "         2.04641158e-02]])"
      ]
     },
     "execution_count": 43,
     "metadata": {},
     "output_type": "execute_result"
    }
   ],
   "source": [
    "pca.components_"
   ]
  },
  {
   "cell_type": "code",
   "execution_count": 44,
   "metadata": {},
   "outputs": [
    {
     "data": {
      "text/plain": [
       "array([-0.11809111,  0.27441585,  0.00740308,  0.19677258, -0.11521284,\n",
       "       -0.37717581, -0.39813   ,  0.31827093, -0.30210379,  0.11973681,\n",
       "       -0.26700973, -0.45522721, -0.26927141])"
      ]
     },
     "execution_count": 44,
     "metadata": {},
     "output_type": "execute_result"
    }
   ],
   "source": [
    "pca.components_[0]"
   ]
  },
  {
   "cell_type": "code",
   "execution_count": 45,
   "metadata": {},
   "outputs": [],
   "source": [
    "var = pca.explained_variance_ratio_"
   ]
  },
  {
   "cell_type": "code",
   "execution_count": 46,
   "metadata": {},
   "outputs": [
    {
     "data": {
      "text/plain": [
       "array([0.37752763, 0.20073531, 0.0911699 , 0.07275951, 0.06155731,\n",
       "       0.05159613, 0.03968108, 0.0255    , 0.02181212, 0.02026372,\n",
       "       0.0154215 , 0.01439521, 0.00758059])"
      ]
     },
     "execution_count": 46,
     "metadata": {},
     "output_type": "execute_result"
    }
   ],
   "source": [
    "var"
   ]
  },
  {
   "cell_type": "markdown",
   "metadata": {},
   "source": [
    "# Cumulative Variance"
   ]
  },
  {
   "cell_type": "code",
   "execution_count": 47,
   "metadata": {},
   "outputs": [],
   "source": [
    "var1 = np.cumsum(np.round(var, decimals=4)*100)"
   ]
  },
  {
   "cell_type": "code",
   "execution_count": 48,
   "metadata": {},
   "outputs": [
    {
     "data": {
      "text/plain": [
       "array([ 37.75,  57.82,  66.94,  74.22,  80.38,  85.54,  89.51,  92.06,\n",
       "        94.24,  96.27,  97.81,  99.25, 100.01])"
      ]
     },
     "execution_count": 48,
     "metadata": {},
     "output_type": "execute_result"
    }
   ],
   "source": [
    "var1"
   ]
  },
  {
   "cell_type": "markdown",
   "metadata": {},
   "source": [
    "# variance plot for pca components obtain"
   ]
  },
  {
   "cell_type": "code",
   "execution_count": 49,
   "metadata": {},
   "outputs": [
    {
     "data": {
      "text/plain": [
       "[<matplotlib.lines.Line2D at 0x7f4fe36ecac0>]"
      ]
     },
     "execution_count": 49,
     "metadata": {},
     "output_type": "execute_result"
    },
    {
     "data": {
      "image/png": "[encoded data removed]",
      "text/plain": [
       "<Figure size 432x288 with 1 Axes>"
      ]
     },
     "metadata": {
      "needs_background": "light"
     },
     "output_type": "display_data"
    }
   ],
   "source": [
    "plt.plot(var1, color='red')"
   ]
  },
  {
   "cell_type": "markdown",
   "metadata": {},
   "source": [
    "# Transforming pca_values into new data frame"
   ]
  },
  {
   "cell_type": "code",
   "execution_count": 50,
   "metadata": {},
   "outputs": [],
   "source": [
    "data = pd.DataFrame(pca_v)"
   ]
  },
  {
   "cell_type": "code",
   "execution_count": 51,
   "metadata": {},
   "outputs": [
    {
     "data": {
      "text/html": [
       "<div>\n",
       "<style scoped>\n",
       "    .dataframe tbody tr th:only-of-type {\n",
       "        vertical-align: middle;\n",
       "    }\n",
       "\n",
       "    .dataframe tbody tr th {\n",
       "        vertical-align: top;\n",
       "    }\n",
       "\n",
       "    .dataframe thead th {\n",
       "        text-align: right;\n",
       "    }\n",
       "</style>\n",
       "<table border=\"1\" class=\"dataframe\">\n",
       "  <thead>\n",
       "    <tr style=\"text-align: right;\">\n",
       "      <th></th>\n",
       "      <th>0</th>\n",
       "      <th>1</th>\n",
       "      <th>2</th>\n",
       "      <th>3</th>\n",
       "      <th>4</th>\n",
       "      <th>5</th>\n",
       "      <th>6</th>\n",
       "      <th>7</th>\n",
       "      <th>8</th>\n",
       "      <th>9</th>\n",
       "      <th>10</th>\n",
       "      <th>11</th>\n",
       "      <th>12</th>\n",
       "    </tr>\n",
       "  </thead>\n",
       "  <tbody>\n",
       "    <tr>\n",
       "      <th>0</th>\n",
       "      <td>-0.742378</td>\n",
       "      <td>-0.334163</td>\n",
       "      <td>0.020734</td>\n",
       "      <td>0.000091</td>\n",
       "      <td>0.104069</td>\n",
       "      <td>-0.080453</td>\n",
       "      <td>0.146934</td>\n",
       "      <td>0.073317</td>\n",
       "      <td>0.283081</td>\n",
       "      <td>-0.147618</td>\n",
       "      <td>0.015088</td>\n",
       "      <td>-0.092323</td>\n",
       "      <td>-0.014517</td>\n",
       "    </tr>\n",
       "    <tr>\n",
       "      <th>1</th>\n",
       "      <td>-0.488848</td>\n",
       "      <td>0.022596</td>\n",
       "      <td>-0.370533</td>\n",
       "      <td>0.079290</td>\n",
       "      <td>-0.063275</td>\n",
       "      <td>-0.241465</td>\n",
       "      <td>0.003607</td>\n",
       "      <td>0.193375</td>\n",
       "      <td>-0.069821</td>\n",
       "      <td>-0.098851</td>\n",
       "      <td>0.001467</td>\n",
       "      <td>-0.097102</td>\n",
       "      <td>0.003301</td>\n",
       "    </tr>\n",
       "    <tr>\n",
       "      <th>2</th>\n",
       "      <td>-0.547607</td>\n",
       "      <td>-0.244359</td>\n",
       "      <td>0.236458</td>\n",
       "      <td>0.054619</td>\n",
       "      <td>-0.084025</td>\n",
       "      <td>0.146042</td>\n",
       "      <td>0.091632</td>\n",
       "      <td>-0.178455</td>\n",
       "      <td>-0.150749</td>\n",
       "      <td>-0.112471</td>\n",
       "      <td>-0.055385</td>\n",
       "      <td>-0.087528</td>\n",
       "      <td>0.005045</td>\n",
       "    </tr>\n",
       "    <tr>\n",
       "      <th>3</th>\n",
       "      <td>-0.809298</td>\n",
       "      <td>-0.656370</td>\n",
       "      <td>0.026831</td>\n",
       "      <td>0.060497</td>\n",
       "      <td>-0.077991</td>\n",
       "      <td>0.042566</td>\n",
       "      <td>-0.082563</td>\n",
       "      <td>0.143534</td>\n",
       "      <td>-0.053878</td>\n",
       "      <td>-0.075791</td>\n",
       "      <td>-0.005911</td>\n",
       "      <td>0.148442</td>\n",
       "      <td>-0.076966</td>\n",
       "    </tr>\n",
       "    <tr>\n",
       "      <th>4</th>\n",
       "      <td>-0.215145</td>\n",
       "      <td>-0.140491</td>\n",
       "      <td>0.412441</td>\n",
       "      <td>-0.135035</td>\n",
       "      <td>0.125411</td>\n",
       "      <td>-0.089670</td>\n",
       "      <td>0.078410</td>\n",
       "      <td>0.076538</td>\n",
       "      <td>0.047854</td>\n",
       "      <td>0.075597</td>\n",
       "      <td>-0.098150</td>\n",
       "      <td>-0.059302</td>\n",
       "      <td>-0.015295</td>\n",
       "    </tr>\n",
       "    <tr>\n",
       "      <th>...</th>\n",
       "      <td>...</td>\n",
       "      <td>...</td>\n",
       "      <td>...</td>\n",
       "      <td>...</td>\n",
       "      <td>...</td>\n",
       "      <td>...</td>\n",
       "      <td>...</td>\n",
       "      <td>...</td>\n",
       "      <td>...</td>\n",
       "      <td>...</td>\n",
       "      <td>...</td>\n",
       "      <td>...</td>\n",
       "      <td>...</td>\n",
       "    </tr>\n",
       "    <tr>\n",
       "      <th>173</th>\n",
       "      <td>0.786732</td>\n",
       "      <td>-0.462235</td>\n",
       "      <td>0.087226</td>\n",
       "      <td>0.254633</td>\n",
       "      <td>-0.185657</td>\n",
       "      <td>-0.207433</td>\n",
       "      <td>0.089753</td>\n",
       "      <td>-0.015801</td>\n",
       "      <td>-0.021389</td>\n",
       "      <td>0.028615</td>\n",
       "      <td>0.041426</td>\n",
       "      <td>-0.007217</td>\n",
       "      <td>-0.028835</td>\n",
       "    </tr>\n",
       "    <tr>\n",
       "      <th>174</th>\n",
       "      <td>0.615840</td>\n",
       "      <td>-0.375012</td>\n",
       "      <td>0.082860</td>\n",
       "      <td>0.082095</td>\n",
       "      <td>0.043235</td>\n",
       "      <td>0.015413</td>\n",
       "      <td>0.032731</td>\n",
       "      <td>-0.117485</td>\n",
       "      <td>-0.026697</td>\n",
       "      <td>0.042003</td>\n",
       "      <td>0.002265</td>\n",
       "      <td>0.078341</td>\n",
       "      <td>-0.041055</td>\n",
       "    </tr>\n",
       "    <tr>\n",
       "      <th>175</th>\n",
       "      <td>0.660609</td>\n",
       "      <td>-0.646822</td>\n",
       "      <td>-0.103811</td>\n",
       "      <td>0.156580</td>\n",
       "      <td>0.176214</td>\n",
       "      <td>0.068102</td>\n",
       "      <td>0.206661</td>\n",
       "      <td>0.055473</td>\n",
       "      <td>-0.006434</td>\n",
       "      <td>-0.044779</td>\n",
       "      <td>0.199281</td>\n",
       "      <td>-0.007850</td>\n",
       "      <td>0.002025</td>\n",
       "    </tr>\n",
       "    <tr>\n",
       "      <th>176</th>\n",
       "      <td>0.578141</td>\n",
       "      <td>-0.514182</td>\n",
       "      <td>-0.108413</td>\n",
       "      <td>-0.178122</td>\n",
       "      <td>0.106227</td>\n",
       "      <td>0.189895</td>\n",
       "      <td>0.209634</td>\n",
       "      <td>0.103679</td>\n",
       "      <td>0.068205</td>\n",
       "      <td>-0.150573</td>\n",
       "      <td>0.073307</td>\n",
       "      <td>0.012480</td>\n",
       "      <td>-0.012199</td>\n",
       "    </tr>\n",
       "    <tr>\n",
       "      <th>177</th>\n",
       "      <td>0.760406</td>\n",
       "      <td>-0.570393</td>\n",
       "      <td>0.280734</td>\n",
       "      <td>0.010813</td>\n",
       "      <td>-0.191970</td>\n",
       "      <td>0.083627</td>\n",
       "      <td>-0.081169</td>\n",
       "      <td>-0.012122</td>\n",
       "      <td>0.126813</td>\n",
       "      <td>0.117864</td>\n",
       "      <td>-0.030228</td>\n",
       "      <td>0.008858</td>\n",
       "      <td>-0.070828</td>\n",
       "    </tr>\n",
       "  </tbody>\n",
       "</table>\n",
       "<p>178 rows × 13 columns</p>\n",
       "</div>"
      ],
      "text/plain": [
       "           0         1         2         3         4         5         6   \\\n",
       "0   -0.742378 -0.334163  0.020734  0.000091  0.104069 -0.080453  0.146934   \n",
       "1   -0.488848  0.022596 -0.370533  0.079290 -0.063275 -0.241465  0.003607   \n",
       "2   -0.547607 -0.244359  0.236458  0.054619 -0.084025  0.146042  0.091632   \n",
       "3   -0.809298 -0.656370  0.026831  0.060497 -0.077991  0.042566 -0.082563   \n",
       "4   -0.215145 -0.140491  0.412441 -0.135035  0.125411 -0.089670  0.078410   \n",
       "..        ...       ...       ...       ...       ...       ...       ...   \n",
       "173  0.786732 -0.462235  0.087226  0.254633 -0.185657 -0.207433  0.089753   \n",
       "174  0.615840 -0.375012  0.082860  0.082095  0.043235  0.015413  0.032731   \n",
       "175  0.660609 -0.646822 -0.103811  0.156580  0.176214  0.068102  0.206661   \n",
       "176  0.578141 -0.514182 -0.108413 -0.178122  0.106227  0.189895  0.209634   \n",
       "177  0.760406 -0.570393  0.280734  0.010813 -0.191970  0.083627 -0.081169   \n",
       "\n",
       "           7         8         9         10        11        12  \n",
       "0    0.073317  0.283081 -0.147618  0.015088 -0.092323 -0.014517  \n",
       "1    0.193375 -0.069821 -0.098851  0.001467 -0.097102  0.003301  \n",
       "2   -0.178455 -0.150749 -0.112471 -0.055385 -0.087528  0.005045  \n",
       "3    0.143534 -0.053878 -0.075791 -0.005911  0.148442 -0.076966  \n",
       "4    0.076538  0.047854  0.075597 -0.098150 -0.059302 -0.015295  \n",
       "..        ...       ...       ...       ...       ...       ...  \n",
       "173 -0.015801 -0.021389  0.028615  0.041426 -0.007217 -0.028835  \n",
       "174 -0.117485 -0.026697  0.042003  0.002265  0.078341 -0.041055  \n",
       "175  0.055473 -0.006434 -0.044779  0.199281 -0.007850  0.002025  \n",
       "176  0.103679  0.068205 -0.150573  0.073307  0.012480 -0.012199  \n",
       "177 -0.012122  0.126813  0.117864 -0.030228  0.008858 -0.070828  \n",
       "\n",
       "[178 rows x 13 columns]"
      ]
     },
     "execution_count": 51,
     "metadata": {},
     "output_type": "execute_result"
    }
   ],
   "source": [
    "data"
   ]
  },
  {
   "cell_type": "code",
   "execution_count": 52,
   "metadata": {},
   "outputs": [],
   "source": [
    "data.columns = 'comp0', 'comp1', 'comp2', 'comp3', 'comp4', 'comp5', 'comp6', 'comp7', 'comp8', 'comp9', 'comp10', 'comp11', 'comp12'"
   ]
  },
  {
   "cell_type": "code",
   "execution_count": 55,
   "metadata": {},
   "outputs": [],
   "source": [
    "Wine_d = pd.concat([df.Type, data.iloc[:, 10:]], axis=1)"
   ]
  },
  {
   "cell_type": "code",
   "execution_count": 56,
   "metadata": {},
   "outputs": [
    {
     "data": {
      "text/html": [
       "<div>\n",
       "<style scoped>\n",
       "    .dataframe tbody tr th:only-of-type {\n",
       "        vertical-align: middle;\n",
       "    }\n",
       "\n",
       "    .dataframe tbody tr th {\n",
       "        vertical-align: top;\n",
       "    }\n",
       "\n",
       "    .dataframe thead th {\n",
       "        text-align: right;\n",
       "    }\n",
       "</style>\n",
       "<table border=\"1\" class=\"dataframe\">\n",
       "  <thead>\n",
       "    <tr style=\"text-align: right;\">\n",
       "      <th></th>\n",
       "      <th>Type</th>\n",
       "      <th>comp10</th>\n",
       "      <th>comp11</th>\n",
       "      <th>comp12</th>\n",
       "    </tr>\n",
       "  </thead>\n",
       "  <tbody>\n",
       "    <tr>\n",
       "      <th>0</th>\n",
       "      <td>1</td>\n",
       "      <td>0.015088</td>\n",
       "      <td>-0.092323</td>\n",
       "      <td>-0.014517</td>\n",
       "    </tr>\n",
       "    <tr>\n",
       "      <th>1</th>\n",
       "      <td>1</td>\n",
       "      <td>0.001467</td>\n",
       "      <td>-0.097102</td>\n",
       "      <td>0.003301</td>\n",
       "    </tr>\n",
       "    <tr>\n",
       "      <th>2</th>\n",
       "      <td>1</td>\n",
       "      <td>-0.055385</td>\n",
       "      <td>-0.087528</td>\n",
       "      <td>0.005045</td>\n",
       "    </tr>\n",
       "    <tr>\n",
       "      <th>3</th>\n",
       "      <td>1</td>\n",
       "      <td>-0.005911</td>\n",
       "      <td>0.148442</td>\n",
       "      <td>-0.076966</td>\n",
       "    </tr>\n",
       "    <tr>\n",
       "      <th>4</th>\n",
       "      <td>1</td>\n",
       "      <td>-0.098150</td>\n",
       "      <td>-0.059302</td>\n",
       "      <td>-0.015295</td>\n",
       "    </tr>\n",
       "    <tr>\n",
       "      <th>...</th>\n",
       "      <td>...</td>\n",
       "      <td>...</td>\n",
       "      <td>...</td>\n",
       "      <td>...</td>\n",
       "    </tr>\n",
       "    <tr>\n",
       "      <th>173</th>\n",
       "      <td>3</td>\n",
       "      <td>0.041426</td>\n",
       "      <td>-0.007217</td>\n",
       "      <td>-0.028835</td>\n",
       "    </tr>\n",
       "    <tr>\n",
       "      <th>174</th>\n",
       "      <td>3</td>\n",
       "      <td>0.002265</td>\n",
       "      <td>0.078341</td>\n",
       "      <td>-0.041055</td>\n",
       "    </tr>\n",
       "    <tr>\n",
       "      <th>175</th>\n",
       "      <td>3</td>\n",
       "      <td>0.199281</td>\n",
       "      <td>-0.007850</td>\n",
       "      <td>0.002025</td>\n",
       "    </tr>\n",
       "    <tr>\n",
       "      <th>176</th>\n",
       "      <td>3</td>\n",
       "      <td>0.073307</td>\n",
       "      <td>0.012480</td>\n",
       "      <td>-0.012199</td>\n",
       "    </tr>\n",
       "    <tr>\n",
       "      <th>177</th>\n",
       "      <td>3</td>\n",
       "      <td>-0.030228</td>\n",
       "      <td>0.008858</td>\n",
       "      <td>-0.070828</td>\n",
       "    </tr>\n",
       "  </tbody>\n",
       "</table>\n",
       "<p>178 rows × 4 columns</p>\n",
       "</div>"
      ],
      "text/plain": [
       "     Type    comp10    comp11    comp12\n",
       "0       1  0.015088 -0.092323 -0.014517\n",
       "1       1  0.001467 -0.097102  0.003301\n",
       "2       1 -0.055385 -0.087528  0.005045\n",
       "3       1 -0.005911  0.148442 -0.076966\n",
       "4       1 -0.098150 -0.059302 -0.015295\n",
       "..    ...       ...       ...       ...\n",
       "173     3  0.041426 -0.007217 -0.028835\n",
       "174     3  0.002265  0.078341 -0.041055\n",
       "175     3  0.199281 -0.007850  0.002025\n",
       "176     3  0.073307  0.012480 -0.012199\n",
       "177     3 -0.030228  0.008858 -0.070828\n",
       "\n",
       "[178 rows x 4 columns]"
      ]
     },
     "execution_count": 56,
     "metadata": {},
     "output_type": "execute_result"
    }
   ],
   "source": [
    "Wine_d"
   ]
  },
  {
   "cell_type": "code",
   "execution_count": 57,
   "metadata": {},
   "outputs": [
    {
     "data": {
      "text/plain": [
       "<matplotlib.axes._subplots.AxesSubplot at 0x7f4fe37007f0>"
      ]
     },
     "execution_count": 57,
     "metadata": {},
     "output_type": "execute_result"
    },
    {
     "data": {
      "image/png": "[encoded data removed]",
      "text/plain": [
       "<Figure size 864x576 with 1 Axes>"
      ]
     },
     "metadata": {
      "needs_background": "light"
     },
     "output_type": "display_data"
    }
   ],
   "source": [
    "Wine_d.plot(x='comp10', y='comp11', kind='scatter',figsize=(12,8))"
   ]
  },
  {
   "cell_type": "code",
   "execution_count": 58,
   "metadata": {},
   "outputs": [],
   "source": [
    "Wine_d.to_csv('New_wine.csv')"
   ]
  },
  {
   "cell_type": "code",
   "execution_count": 59,
   "metadata": {},
   "outputs": [],
   "source": [
    "import os "
   ]
  },
  {
   "cell_type": "code",
   "execution_count": 60,
   "metadata": {},
   "outputs": [
    {
     "data": {
      "text/plain": [
       "'/home/ataur'"
      ]
     },
     "execution_count": 60,
     "metadata": {},
     "output_type": "execute_result"
    }
   ],
   "source": [
    "os.getcwd()"
   ]
  }
 ],
 "metadata": {
  "kernelspec": {
   "display_name": "Python 3",
   "language": "python",
   "name": "python3"
  },
  "language_info": {
   "codemirror_mode": {
    "name": "ipython",
    "version": 3
   },
   "file_extension": ".py",
   "mimetype": "text/x-python",
   "name": "python",
   "nbconvert_exporter": "python",
   "pygments_lexer": "ipython3",
   "version": "3.8.3"
  }
 },
 "nbformat": 4,
 "nbformat_minor": 4
}
